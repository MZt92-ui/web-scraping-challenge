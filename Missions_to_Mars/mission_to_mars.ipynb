{
 "cells": [
  {
   "cell_type": "code",
   "execution_count": 1,
   "id": "fb263142",
   "metadata": {},
   "outputs": [],
   "source": [
    "# Dependencies\n",
    "from splinter import Browser\n",
    "from bs4 import BeautifulSoup as bs\n",
    "from webdriver_manager.chrome import ChromeDriverManager\n",
    "import pandas as pd\n",
    "import pymongo"
   ]
  },
  {
   "cell_type": "code",
   "execution_count": 2,
   "id": "fc89debb",
   "metadata": {},
   "outputs": [],
   "source": [
    "# init_browser\n",
    "def init_browser():\n",
    "    executable_path = {'executable_path': ChromeDriverManager().install()}\n",
    "    return Browser('chrome', **executable_path, headless=False)"
   ]
  },
  {
   "cell_type": "markdown",
   "id": "bc7db7e5",
   "metadata": {},
   "source": [
    "### NASA Mars News"
   ]
  },
  {
   "cell_type": "code",
   "execution_count": 3,
   "id": "8e673ef2",
   "metadata": {},
   "outputs": [
    {
     "name": "stdout",
     "output_type": "stream",
     "text": [
      "\n"
     ]
    }
   ],
   "source": [
    "browser = init_browser()\n",
    "\n",
    "news = \"https://redplanetscience.com/\"\n",
    "browser.visit(news)\n",
    "\n",
    "# Scrape page into Soup\n",
    "html = browser.html\n",
    "soup = bs(html, \"html.parser\")\n",
    "\n",
    "latest_title = soup.find(\"div\",class_=\"content_title\").text\n",
    "lates_paragraph = soup.find(\"div\",class_=\"article_teaser_body\").text\n",
    "\n",
    "browser.quit()"
   ]
  },
  {
   "cell_type": "code",
   "execution_count": 4,
   "id": "936db0f8",
   "metadata": {},
   "outputs": [
    {
     "name": "stdout",
     "output_type": "stream",
     "text": [
      "Space History Is Made in This NASA Robot Factory ---------- From rockets to rovers, JPL's Spacecraft Assembly Facility has been at the center of robotic spaceflight. Here's a closer look at what makes it so special.\n"
     ]
    }
   ],
   "source": [
    "# check results\n",
    "print(latest_title,\"----------\" ,lates_paragraph)"
   ]
  },
  {
   "cell_type": "markdown",
   "id": "5ae6c90a",
   "metadata": {},
   "source": [
    "### JPL Mars Space Images - Featured Image"
   ]
  },
  {
   "cell_type": "code",
   "execution_count": 5,
   "id": "fde28d15",
   "metadata": {},
   "outputs": [
    {
     "name": "stdout",
     "output_type": "stream",
     "text": [
      "\n"
     ]
    }
   ],
   "source": [
    "browser = init_browser()\n",
    "\n",
    "image = \"https://spaceimages-mars.com/\"\n",
    "browser.visit(image)\n",
    "\n",
    "html = browser.html\n",
    "soup2 = bs(html,\"html.parser\")\n",
    "\n",
    "featured_img_url = image + soup2.find(\"img\",class_ = \"headerimage\")[\"src\"]\n",
    "\n",
    "browser.quit()"
   ]
  },
  {
   "cell_type": "code",
   "execution_count": 6,
   "id": "f15e200d",
   "metadata": {},
   "outputs": [
    {
     "name": "stdout",
     "output_type": "stream",
     "text": [
      "https://spaceimages-mars.com/image/featured/mars1.jpg\n"
     ]
    }
   ],
   "source": [
    "# check results\n",
    "print(featured_img_url)"
   ]
  },
  {
   "cell_type": "markdown",
   "id": "a85a9564",
   "metadata": {},
   "source": [
    "### Mars Facts"
   ]
  },
  {
   "cell_type": "code",
   "execution_count": 25,
   "id": "4ed525ce",
   "metadata": {},
   "outputs": [],
   "source": [
    "fact = \"https://galaxyfacts-mars.com/\"\n",
    "tables = pd.read_html(fact)\n",
    "df = tables[0]\n",
    "df.columns = df.iloc[0]\n",
    "df = df.iloc[1:,:]\n",
    "df.set_index(\"Mars - Earth Comparison\",inplace=True)\n",
    "\n",
    "# save it to HTML\n",
    "fact_table = df.to_html()"
   ]
  },
  {
   "cell_type": "markdown",
   "id": "15bfdbfa",
   "metadata": {},
   "source": [
    "### Mars Hemispheres"
   ]
  },
  {
   "cell_type": "code",
   "execution_count": 19,
   "id": "40431279",
   "metadata": {},
   "outputs": [
    {
     "name": "stdout",
     "output_type": "stream",
     "text": [
      "\n",
      "\n",
      "\n",
      "\n",
      "\n"
     ]
    }
   ],
   "source": [
    "browser = init_browser()\n",
    "\n",
    "hemisphere = \"https://marshemispheres.com/\"\n",
    "browser.visit(hemisphere)\n",
    "\n",
    "hemisphere_lis = []\n",
    "hemisphere_title = []\n",
    "hemisphere_img = []\n",
    "\n",
    "# grab the title \n",
    "html = browser.html\n",
    "soup4 = bs(html,\"html.parser\")\n",
    "hemisphere_title = [result.text for result in soup4.find_all(\"h3\")]\n",
    "\n",
    "browser.quit()\n",
    "\n",
    "# grab the image  \n",
    "for title in hemisphere_title[:4]:\n",
    "    browser = init_browser()\n",
    "    \n",
    "    hemisphere = \"https://marshemispheres.com/\"\n",
    "    browser.visit(hemisphere)\n",
    "    \n",
    "    search = title.split(\" \")[0].lower()\n",
    "    image_url = browser.links.find_by_partial_href(f\"{search}\").first[\"href\"]\n",
    "    browser.visit(image_url)\n",
    "    html = browser.html\n",
    "    soup_ = bs(html,\"html.parser\")\n",
    "    \n",
    "    hemisphere_img.append(hemisphere + soup_.find(\"img\",class_ = \"wide-image\")[\"src\"])\n",
    "    browser.quit()\n",
    "\n",
    "# form the dictionary\n",
    "for i in range(len(hemisphere_img)):\n",
    "    x = hemisphere_title[i]\n",
    "    y = hemisphere_img[i]\n",
    "    input_ = {\"title\":x,\"img\":y}\n",
    "    hemisphere_lis.append(input_)"
   ]
  },
  {
   "cell_type": "code",
   "execution_count": 20,
   "id": "8ea45fa2",
   "metadata": {},
   "outputs": [
    {
     "data": {
      "text/plain": [
       "[{'title': 'Cerberus Hemisphere Enhanced',\n",
       "  'img': 'https://marshemispheres.com/images/f5e372a36edfa389625da6d0cc25d905_cerberus_enhanced.tif_full.jpg'},\n",
       " {'title': 'Schiaparelli Hemisphere Enhanced',\n",
       "  'img': 'https://marshemispheres.com/images/3778f7b43bbbc89d6e3cfabb3613ba93_schiaparelli_enhanced.tif_full.jpg'},\n",
       " {'title': 'Syrtis Major Hemisphere Enhanced',\n",
       "  'img': 'https://marshemispheres.com/images/555e6403a6ddd7ba16ddb0e471cadcf7_syrtis_major_enhanced.tif_full.jpg'},\n",
       " {'title': 'Valles Marineris Hemisphere Enhanced',\n",
       "  'img': 'https://marshemispheres.com/images/b3c7c6c9138f57b4756be9b9c43e3a48_valles_marineris_enhanced.tif_full.jpg'}]"
      ]
     },
     "execution_count": 20,
     "metadata": {},
     "output_type": "execute_result"
    }
   ],
   "source": [
    "#check results\n",
    "hemisphere_lis"
   ]
  },
  {
   "cell_type": "markdown",
   "id": "6b28ce53",
   "metadata": {},
   "source": [
    "#### Save final info to Mongo DB"
   ]
  },
  {
   "cell_type": "code",
   "execution_count": 26,
   "id": "21bf5cea",
   "metadata": {},
   "outputs": [],
   "source": [
    "Mars = {\n",
    "    \"NewsTitle\":latest_title,\n",
    "    \"NewsParagraph\":lates_paragraph,\n",
    "    \"FeaturedImage\":featured_img_url,\n",
    "    \"FactsTable\":fact_table,\n",
    "    \"Hemisphere\":hemisphere_lis\n",
    "}"
   ]
  },
  {
   "cell_type": "code",
   "execution_count": 27,
   "id": "e81146f8",
   "metadata": {},
   "outputs": [
    {
     "data": {
      "text/plain": [
       "<pymongo.results.InsertOneResult at 0x25d590bffc8>"
      ]
     },
     "execution_count": 27,
     "metadata": {},
     "output_type": "execute_result"
    }
   ],
   "source": [
    "# Initialize PyMongo to work with MongoDBs\n",
    "conn = 'mongodb://localhost:27017'\n",
    "client = pymongo.MongoClient(conn)\n",
    "\n",
    "# Define database and collection\n",
    "db = client.mars_db\n",
    "collection = db.info\n",
    "\n",
    "collection.insert_one(Mars)"
   ]
  },
  {
   "cell_type": "code",
   "execution_count": 36,
   "id": "c6317ef1",
   "metadata": {},
   "outputs": [
    {
     "data": {
      "text/plain": [
       "'<table border=\"1\" class=\"dataframe\">\\n  <thead>\\n    <tr style=\"text-align: right;\">\\n      <th></th>\\n      <th>Mars</th>\\n      <th>Earth</th>\\n    </tr>\\n    <tr>\\n      <th>Mars - Earth Comparison</th>\\n      <th></th>\\n      <th></th>\\n    </tr>\\n  </thead>\\n  <tbody>\\n    <tr>\\n      <th>Diameter:</th>\\n      <td>6,779 km</td>\\n      <td>12,742 km</td>\\n    </tr>\\n    <tr>\\n      <th>Mass:</th>\\n      <td>6.39 × 10^23 kg</td>\\n      <td>5.97 × 10^24 kg</td>\\n    </tr>\\n    <tr>\\n      <th>Moons:</th>\\n      <td>2</td>\\n      <td>1</td>\\n    </tr>\\n    <tr>\\n      <th>Distance from Sun:</th>\\n      <td>227,943,824 km</td>\\n      <td>149,598,262 km</td>\\n    </tr>\\n    <tr>\\n      <th>Length of Year:</th>\\n      <td>687 Earth days</td>\\n      <td>365.24 days</td>\\n    </tr>\\n    <tr>\\n      <th>Temperature:</th>\\n      <td>-87 to -5 °C</td>\\n      <td>-88 to 58°C</td>\\n    </tr>\\n  </tbody>\\n</table>'"
      ]
     },
     "execution_count": 36,
     "metadata": {},
     "output_type": "execute_result"
    }
   ],
   "source": [
    "collection.find()[0][\"FactsTable\"]"
   ]
  },
  {
   "cell_type": "code",
   "execution_count": null,
   "id": "6ad000e5",
   "metadata": {},
   "outputs": [],
   "source": []
  }
 ],
 "metadata": {
  "kernelspec": {
   "display_name": "Python [conda env:bootcamp] *",
   "language": "python",
   "name": "conda-env-bootcamp-py"
  },
  "language_info": {
   "codemirror_mode": {
    "name": "ipython",
    "version": 3
   },
   "file_extension": ".py",
   "mimetype": "text/x-python",
   "name": "python",
   "nbconvert_exporter": "python",
   "pygments_lexer": "ipython3",
   "version": "3.7.13"
  }
 },
 "nbformat": 4,
 "nbformat_minor": 5
}
