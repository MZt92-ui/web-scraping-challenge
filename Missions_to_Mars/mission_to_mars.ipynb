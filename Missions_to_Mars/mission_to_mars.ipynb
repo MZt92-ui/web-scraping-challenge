{
 "cells": [
  {
   "cell_type": "code",
   "execution_count": 1,
   "id": "fb263142",
   "metadata": {},
   "outputs": [],
   "source": [
    "# Dependencies\n",
    "from splinter import Browser\n",
    "from bs4 import BeautifulSoup as bs\n",
    "from webdriver_manager.chrome import ChromeDriverManager\n",
    "import pandas as pd\n",
    "import pymongo"
   ]
  },
  {
   "cell_type": "code",
   "execution_count": 2,
   "id": "b1c11659",
   "metadata": {},
   "outputs": [],
   "source": [
    "# init_browser\n",
    "def init_browser():\n",
    "    executable_path = {'executable_path': ChromeDriverManager().install()}\n",
    "    return Browser('chrome', **executable_path, headless=False)"
   ]
  },
  {
   "cell_type": "markdown",
   "id": "bc7db7e5",
   "metadata": {},
   "source": [
    "### NASA Mars News"
   ]
  },
  {
   "cell_type": "code",
   "execution_count": 3,
   "id": "40f82794",
   "metadata": {},
   "outputs": [
    {
     "name": "stdout",
     "output_type": "stream",
     "text": [
      "\n"
     ]
    }
   ],
   "source": [
    "browser = init_browser()\n",
    "\n",
    "news = \"https://redplanetscience.com/\"\n",
    "browser.visit(news)\n",
    "\n",
    "# Scrape page into Soup\n",
    "html = browser.html\n",
    "soup = bs(html, \"html.parser\")\n",
    "\n",
    "latest_title = soup.find(\"div\",class_=\"content_title\").text\n",
    "lates_paragraph = soup.find(\"div\",class_=\"article_teaser_body\").text\n",
    "\n",
    "browser.quit()"
   ]
  },
  {
   "cell_type": "code",
   "execution_count": 4,
   "id": "b4ef1cfe",
   "metadata": {},
   "outputs": [
    {
     "name": "stdout",
     "output_type": "stream",
     "text": [
      "Mars 2020 Stands on Its Own Six Wheels ---------- In time-lapse video, taken at JPL, captures the first time NASA's Mars 2020 rover carries its full weight on its legs and wheels.\n"
     ]
    }
   ],
   "source": [
    "# check results\n",
    "print(latest_title,\"----------\" ,lates_paragraph)"
   ]
  },
  {
   "cell_type": "markdown",
   "id": "5ae6c90a",
   "metadata": {},
   "source": [
    "### JPL Mars Space Images - Featured Image"
   ]
  },
  {
   "cell_type": "code",
   "execution_count": 5,
   "id": "a5f22ad8",
   "metadata": {},
   "outputs": [
    {
     "name": "stdout",
     "output_type": "stream",
     "text": [
      "\n"
     ]
    }
   ],
   "source": [
    "browser = init_browser()\n",
    "\n",
    "image = \"https://spaceimages-mars.com/\"\n",
    "browser.visit(image)\n",
    "\n",
    "html = browser.html\n",
    "soup2 = bs(html,\"html.parser\")\n",
    "\n",
    "featured_img_url = image + soup2.find(\"img\",class_ = \"headerimage\")[\"src\"]\n",
    "\n",
    "browser.quit()"
   ]
  },
  {
   "cell_type": "code",
   "execution_count": 6,
   "id": "73dc9921",
   "metadata": {},
   "outputs": [
    {
     "name": "stdout",
     "output_type": "stream",
     "text": [
      "https://spaceimages-mars.com/image/featured/mars3.jpg\n"
     ]
    }
   ],
   "source": [
    "# check results\n",
    "print(featured_img_url)"
   ]
  },
  {
   "cell_type": "markdown",
   "id": "a85a9564",
   "metadata": {},
   "source": [
    "### Mars Facts"
   ]
  },
  {
   "cell_type": "code",
   "execution_count": 7,
   "id": "a97320b3",
   "metadata": {},
   "outputs": [],
   "source": [
    "fact = \"https://galaxyfacts-mars.com/\"\n",
    "tables = pd.read_html(fact)\n",
    "df = tables[0]\n",
    "df.columns = df.iloc[0]\n",
    "df = df.iloc[1:,:]\n",
    "df.set_index(\"Mars - Earth Comparison\",inplace=True)\n",
    "\n",
    "# save it to HTML\n",
    "fact_table = df.to_html(classes=\"table table-striped\")"
   ]
  },
  {
   "cell_type": "markdown",
   "id": "15bfdbfa",
   "metadata": {},
   "source": [
    "### Mars Hemispheres"
   ]
  },
  {
   "cell_type": "code",
   "execution_count": 8,
   "id": "40431279",
   "metadata": {},
   "outputs": [
    {
     "name": "stdout",
     "output_type": "stream",
     "text": [
      "\n",
      "\n",
      "\n",
      "\n",
      "\n"
     ]
    }
   ],
   "source": [
    "browser = init_browser()\n",
    "\n",
    "hemisphere = \"https://marshemispheres.com/\"\n",
    "browser.visit(hemisphere)\n",
    "\n",
    "hemisphere_lis = []\n",
    "hemisphere_title = []\n",
    "hemisphere_img = []\n",
    "\n",
    "# grab the title \n",
    "html = browser.html\n",
    "soup4 = bs(html,\"html.parser\")\n",
    "hemisphere_title = [result.text for result in soup4.find_all(\"h3\")]\n",
    "\n",
    "browser.quit()\n",
    "\n",
    "# grab the image  \n",
    "for title in hemisphere_title[:4]:\n",
    "    browser = init_browser()\n",
    "    \n",
    "    hemisphere = \"https://marshemispheres.com/\"\n",
    "    browser.visit(hemisphere)\n",
    "    \n",
    "    search = title.split(\" \")[0].lower()\n",
    "    image_url = browser.links.find_by_partial_href(f\"{search}\").first[\"href\"]\n",
    "    browser.visit(image_url)\n",
    "    html = browser.html\n",
    "    soup_ = bs(html,\"html.parser\")\n",
    "    \n",
    "    hemisphere_img.append(hemisphere + soup_.find(\"img\",class_ = \"wide-image\")[\"src\"])\n",
    "    browser.quit()\n",
    "\n",
    "# form the dictionary\n",
    "for i in range(len(hemisphere_img)):\n",
    "    x = hemisphere_title[i]\n",
    "    y = hemisphere_img[i]\n",
    "    input_ = {\"title\":x,\"img\":y}\n",
    "    hemisphere_lis.append(input_)"
   ]
  },
  {
   "cell_type": "code",
   "execution_count": 9,
   "id": "93939cd4",
   "metadata": {},
   "outputs": [
    {
     "data": {
      "text/plain": [
       "[{'title': 'Cerberus Hemisphere Enhanced',\n",
       "  'img': 'https://marshemispheres.com/images/f5e372a36edfa389625da6d0cc25d905_cerberus_enhanced.tif_full.jpg'},\n",
       " {'title': 'Schiaparelli Hemisphere Enhanced',\n",
       "  'img': 'https://marshemispheres.com/images/3778f7b43bbbc89d6e3cfabb3613ba93_schiaparelli_enhanced.tif_full.jpg'},\n",
       " {'title': 'Syrtis Major Hemisphere Enhanced',\n",
       "  'img': 'https://marshemispheres.com/images/555e6403a6ddd7ba16ddb0e471cadcf7_syrtis_major_enhanced.tif_full.jpg'},\n",
       " {'title': 'Valles Marineris Hemisphere Enhanced',\n",
       "  'img': 'https://marshemispheres.com/images/b3c7c6c9138f57b4756be9b9c43e3a48_valles_marineris_enhanced.tif_full.jpg'}]"
      ]
     },
     "execution_count": 9,
     "metadata": {},
     "output_type": "execute_result"
    }
   ],
   "source": [
    "#check results\n",
    "hemisphere_lis"
   ]
  },
  {
   "cell_type": "markdown",
   "id": "719619c8",
   "metadata": {},
   "source": [
    "#### Save final info to Mongo DB"
   ]
  },
  {
   "cell_type": "code",
   "execution_count": 10,
   "id": "cadbcad4",
   "metadata": {},
   "outputs": [],
   "source": [
    "Mars = {\n",
    "    \"NewsTitle\":latest_title,\n",
    "    \"NewsParagraph\":lates_paragraph,\n",
    "    \"FeaturedImage\":featured_img_url,\n",
    "    \"FactsTable\":fact_table,\n",
    "    \"Hemisphere\":hemisphere_lis\n",
    "}"
   ]
  },
  {
   "cell_type": "code",
   "execution_count": 12,
   "id": "1922aa24",
   "metadata": {},
   "outputs": [],
   "source": [
    "# Initialize PyMongo to work with MongoDBs\n",
    "conn = 'mongodb://localhost:27017'\n",
    "client = pymongo.MongoClient(conn)\n",
    "\n",
    "# Define database and collection\n",
    "db = client.mars_db\n",
    "collection = db.info"
   ]
  },
  {
   "cell_type": "code",
   "execution_count": 13,
   "id": "378dcc83",
   "metadata": {},
   "outputs": [
    {
     "data": {
      "text/plain": [
       "<pymongo.results.InsertOneResult at 0x21805200948>"
      ]
     },
     "execution_count": 13,
     "metadata": {},
     "output_type": "execute_result"
    }
   ],
   "source": [
    "collection.drop()\n",
    "collection.insert_one(Mars)"
   ]
  },
  {
   "cell_type": "code",
   "execution_count": null,
   "id": "7235e3d9",
   "metadata": {},
   "outputs": [],
   "source": []
  }
 ],
 "metadata": {
  "kernelspec": {
   "display_name": "Python [conda env:bootcamp] *",
   "language": "python",
   "name": "conda-env-bootcamp-py"
  },
  "language_info": {
   "codemirror_mode": {
    "name": "ipython",
    "version": 3
   },
   "file_extension": ".py",
   "mimetype": "text/x-python",
   "name": "python",
   "nbconvert_exporter": "python",
   "pygments_lexer": "ipython3",
   "version": "3.7.13"
  }
 },
 "nbformat": 4,
 "nbformat_minor": 5
}
